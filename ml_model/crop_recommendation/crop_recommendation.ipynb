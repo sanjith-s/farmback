{
 "cells": [
  {
   "cell_type": "code",
   "execution_count": 1,
   "metadata": {},
   "outputs": [],
   "source": [
    "import pandas as pd\n",
    "import numpy as np \n",
    "import matplotlib.pyplot as plt\n",
    "import pickle\n",
    "from sklearn.preprocessing import LabelEncoder\n",
    "from sklearn.model_selection import train_test_split\n",
    "from xgboost import XGBClassifier\n",
    "df = pd.read_csv('Crop_recommendation.csv')\n",
    "X = df.iloc[:, :-1].values\n",
    "y = df.iloc[:, -1].values\n",
    "targetEncoder = LabelEncoder()\n",
    "targetEncoder.fit(y)\n",
    "y = targetEncoder.transform(y)\n",
    "X_train, X_test, y_train, y_test = train_test_split(X, y, test_size=0.1, random_state=7)\n",
    "model = XGBClassifier()\n",
    "model.fit(X_train, y_train)\n",
    "pickle.dump(model, open('model.pkl', 'wb'))\n",
    "pickle.dump(targetEncoder,open('encoder.pkl','wb'))"
   ]
  }
 ],
 "metadata": {
  "kernelspec": {
   "display_name": "Python 3",
   "language": "python",
   "name": "python3"
  },
  "language_info": {
   "codemirror_mode": {
    "name": "ipython",
    "version": 3
   },
   "file_extension": ".py",
   "mimetype": "text/x-python",
   "name": "python",
   "nbconvert_exporter": "python",
   "pygments_lexer": "ipython3",
   "version": "3.10.1"
  },
  "vscode": {
   "interpreter": {
    "hash": "f4ee20747d374867a758df50738121b97d4488f7be317013cefcb8f89fa0dcf8"
   }
  }
 },
 "nbformat": 4,
 "nbformat_minor": 4
}
